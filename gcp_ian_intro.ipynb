{
 "cells": [
  {
   "cell_type": "markdown",
   "metadata": {},
   "source": [
    "### Gcloud Intro (Datalab, Ml-Engine, ML-API)\n",
    "by: Ian Myjer"
   ]
  },
  {
   "cell_type": "markdown",
   "metadata": {},
   "source": [
    "## Setup Stuff (very simplified version of what Zach covered)\n",
    "Note: all tasks performed on local computer\n",
    "\n",
    "#### get file from somewhere\n",
    "https://www.usaspending.gov/#/download_center/award_data_archive\n",
    "\n",
    "#### create gcloud storage bucket\n",
    "`gsutil mb -c regional -l us-east1 gs://ian-sandbox`\n",
    "\n",
    "#### move files to bucket\n",
    "`gsutil cp *all_Contracts* gs://ian-sandbox`\n",
    "\n",
    "#### get data into BigQuery\n",
    "1. Pin GCP project to BigQuery\n",
    "2. Create dataset\n",
    "3. Create table within dataset and let BigQuery auto guess the field types\n",
    "\n",
    "#### Or run it the cool way (https://github.com/RZachLamberty/usaspending)\n",
    "1. Download data\n",
    "2. Upload to GCP\n",
    "3. Use Dataprep to parse one file and get the schema\n",
    "4. Use Dataflow to parse the remaining files and put them into BigQuery\n"
   ]
  },
  {
   "cell_type": "markdown",
   "metadata": {},
   "source": [
    "## Datalab\n",
    "\n",
    "##### from the glcoud shell, create a datalab instance\n",
    "`datalab create gcp-example --project ian-sandbox-221014 --zone us-east1-b`\n",
    "\n",
    "##### manage datalab\n",
    "`datalab list`   \n",
    "`datalab stop gcp-example`    \n",
    "`datalab connect gcp-example` (Can be used if network connection is lost or to restart/connect to datalab if it has been stopped)    \n",
    "`datalab delete gcp-example`    \n",
    "\n",
    "#### Why use datalab? \n",
    "1. Free/easy development environment management \n",
    "2. If using BigQuery, BigTable, etc, Datalab can easily connect\n",
    "3. Integrated with ML-Engine for easy scaling and access to Tensorflow hardware\n",
    "\n",
    "#### Why not use datalab?\n",
    "1. Kind of annoying to spin up/spin down\n",
    "2. Harder to use typical developer tools like `git`\n",
    "3. No obvious way to use `R`\n"
   ]
  },
  {
   "cell_type": "markdown",
   "metadata": {},
   "source": [
    "## ML-Engine\n",
    "\n",
    "#### "
   ]
  },
  {
   "cell_type": "code",
   "execution_count": null,
   "metadata": {},
   "outputs": [],
   "source": []
  }
 ],
 "metadata": {
  "kernelspec": {
   "display_name": "Python 3",
   "language": "python",
   "name": "python3"
  },
  "language_info": {
   "codemirror_mode": {
    "name": "ipython",
    "version": 3
   },
   "file_extension": ".py",
   "mimetype": "text/x-python",
   "name": "python",
   "nbconvert_exporter": "python",
   "pygments_lexer": "ipython3",
   "version": "3.6.5"
  }
 },
 "nbformat": 4,
 "nbformat_minor": 2
}
