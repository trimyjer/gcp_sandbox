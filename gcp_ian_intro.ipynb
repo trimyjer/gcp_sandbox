{
 "cells": [
  {
   "cell_type": "markdown",
   "metadata": {},
   "source": [
    "### Gcloud Intro (Datalab, Ml-Engine, ML-API)\n",
    "by: Ian Myjer"
   ]
  },
  {
   "cell_type": "markdown",
   "metadata": {},
   "source": [
    "## Setup Stuff (very simplified version of what Zach covered)\n",
    "\n",
    "#### download data file to local\n",
    "https://www.usaspending.gov/#/download_center/award_data_archive\n",
    "\n",
    "#### create gcloud storage bucket (performed locally) \n",
    "`gsutil mb -c regional -l us-east1 gs://ian-sandbox`\n",
    "\n",
    "#### move files to bucket (performed locally)\n",
    "`gsutil cp *all_Contracts* gs://ian-sandbox`\n",
    "\n",
    "#### get data into BigQuery\n",
    "1. Pin GCP project to BigQuery\n",
    "2. Create dataset\n",
    "3. Create table within dataset and let BigQuery auto guess the field types\n",
    "\n",
    "### Or do it it the cool/more scalable way (https://github.com/RZachLamberty/usaspending)\n",
    "1. Download data somewhere\n",
    "2. Upload to GCP cloud storage\n",
    "3. Use Dataprep to parse one file and get the schema (or come up with schema on your own...)\n",
    "4. Use Dataflow to parse the remaining files and put them into BigQuery\n"
   ]
  },
  {
   "cell_type": "markdown",
   "metadata": {},
   "source": [
    "## Datalab\n",
    "\n",
    "#### what is it?\n",
    "Jupyter notebook hosted on GCP (for free!)    \n",
    "More technical: it's a docker image of jupyter and some other python stuff running on a GCP compute engine that Google spins up for you (https://github.com/googledatalab/datalab/tree/master/containers/datalab)\n",
    "\n",
    "##### How to use it? \n",
    "from the glcoud shell, create a datalab instance:\n",
    "`datalab create gcp-example --project ian-sandbox-221014 --zone us-east1-b`\n",
    "\n",
    "##### How to manage it?\n",
    "`datalab list`   \n",
    "`datalab stop gcp-example`    \n",
    "`datalab connect gcp-example` (Can be used if network connection is lost or to restart/connect to datalab if it has been stopped)    \n",
    "`datalab delete gcp-example`    \n",
    "\n",
    "#### Why use datalab? \n",
    "1. Free/easy development environment management \n",
    "2. If using BigQuery, BigTable, etc, Datalab can easily connect\n",
    "3. Integrated with ML-Engine for easy scaling and access to Tensorflow hardware\n",
    "\n",
    "#### Why not use datalab?\n",
    "1. Kind of annoying to spin up/spin down\n",
    "2. Less flexible than maintaining your own development environment (e.g., harder to use typical developer tools like `git`)\n",
    "3. No obvious way to use `R`\n"
   ]
  },
  {
   "cell_type": "markdown",
   "metadata": {},
   "source": [
    "## ML Engine\n",
    "\n",
    "#### What is it?\n",
    "1. Auto-scaling model training engine\n",
    "2. Model deployment, management, and verison control framework\n",
    "\n",
    "#### How to use it?\n",
    "Use the GCP console to look at ML jobs and managed models\n",
    "Use the terminal or a Datalab instance to kick off training jobs or deploy models\n",
    "\n",
    "#### Why use it?\n",
    "1. Automatically scale the workers required for training models on large datasets\n",
    "2. Access to hardware with GPU/TPUs (https://cloud.google.com/ml-engine/docs/tensorflow/using-tpus)\n",
    "3. Easy model versioning\n",
    "4. Model deployment\n",
    "5. Model monitoring?\n",
    "\n",
    "#### Why not use it?\n",
    "1. Deploying the model as a REST API to users outside of GCP seems like it would take extra effort (but probably not as much as manual deployment using flask app or similar)\n",
    "\n",
    "#### FAQs\n",
    "1. What version of pyton/tensorflow is used once the model is deployed?     \n",
    "    1a. Notes: https://cloud.google.com/ml-engine/docs/tensorflow/versioning    \n",
    "    1a. Documentation: https://cloud.google.com/ml-engine/docs/tensorflow/runtime-version-list\n",
    "2. Is it possible to train/deploy on Cloud ML using anything besides Tensorflow?     \n",
    "    2a. Yes, later versions (Version > 1.0) of the cloud ML runtime support Tensorflow, Sk-learn, and XGBoost (https://cloud.google.com/ml-engine/docs/scikit/quickstart)    \n",
    "3. Basic steps for deploying a model    \n",
    "    3a. Train a model somewhere and do all that magic stuff to make it good    \n",
    "    3b. Save model to a file (file type depends on framework used)    \n",
    "    3c. Use `gcloud` command line tool to deploy model from file and version it    \n",
    "4. How does scoring a model work if input data needs cleaning??    \n",
    "    4a. Just clean the data before it's scored, bro    \n",
    "    4b. If the model is deployed using Tensorflow, a `serving_input_fn` can be added to the model object to handle some maniulation of scoring inputs (https://github.com/GoogleCloudPlatform/training-data-analyst/blob/master/courses/machine_learning/cloudmle/taxifare/trainer/model.py#L92)"
   ]
  },
  {
   "cell_type": "markdown",
   "metadata": {},
   "source": [
    "# ML Apis\n",
    "\n",
    "#### what is it?\n",
    "1. Pre-trained models created by google for common things (Vision, Text, Audio)\n",
    "\n",
    "#### why is it?\n",
    "1. Because the future is now\n",
    "2. Because Google has more data than you\n",
    "3. Because you were never that good at data science anyway\n",
    "4. Because f*** it man, I'm tired of training\n",
    "5. None of the above, I will provide my own transportation to and from the gala\n",
    "\n",
    "#### why not use it? \n",
    "1. If you have sensitive data it's not clear that using these services would be kosher\n",
    "\n"
   ]
  }
 ],
 "metadata": {
  "kernelspec": {
   "display_name": "Python 3",
   "language": "python",
   "name": "python3"
  },
  "language_info": {
   "codemirror_mode": {
    "name": "ipython",
    "version": 3
   },
   "file_extension": ".py",
   "mimetype": "text/x-python",
   "name": "python",
   "nbconvert_exporter": "python",
   "pygments_lexer": "ipython3",
   "version": "3.6.5"
  }
 },
 "nbformat": 4,
 "nbformat_minor": 2
}
