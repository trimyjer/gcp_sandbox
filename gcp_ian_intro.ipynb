{
 "cells": [
  {
   "cell_type": "markdown",
   "metadata": {},
   "source": [
    "### Gcloud Intro (Datalab, Ml-Engine, ML-API)\n",
    "by: Ian Myjer"
   ]
  },
  {
   "cell_type": "markdown",
   "metadata": {},
   "source": [
    "## Setup Stuff (very simplified version of what Zach covered)\n",
    "Note: all tasks performed on local computer\n",
    "\n",
    "#### get file from somewhere\n",
    "https://www.usaspending.gov/#/download_center/award_data_archive\n",
    "\n",
    "#### create gcloud storage bucket\n",
    "`gsutil mb -c regional -l us-east1 gs://ian-sandbox`\n",
    "\n",
    "#### move files to bucket\n",
    "`gsutil cp *all_Contracts* gs://ian-sandbox`\n",
    "\n",
    "#### get data into BigQuery\n",
    "1. Pin GCP project to BigQuery\n",
    "2. Create dataset\n",
    "3. Create table within dataset and let BigQuery auto guess the field types\n",
    "\n",
    "### Or do it it the cool way (https://github.com/RZachLamberty/usaspending)\n",
    "1. Download data somewhere\n",
    "2. Upload to GCP cloud storage\n",
    "3. Use Dataprep to parse one file and get the schema (or come up with schema on your own...)\n",
    "4. Use Dataflow to parse the remaining files and put them into BigQuery\n"
   ]
  },
  {
   "cell_type": "markdown",
   "metadata": {},
   "source": [
    "## Datalab\n",
    "\n",
    "#### what is it?\n",
    "Jupyter notebook hosted on GCP (for free!)    \n",
    "More technical: it's a docker image of jupyter and some other python stuff running on a GCP compute engine that Google spins up for you(https://github.com/googledatalab/datalab/tree/master/containers/datalab)\n",
    "\n",
    "##### How to use it? \n",
    "from the glcoud shell, create a datalab instance:\n",
    "`datalab create gcp-example --project ian-sandbox-221014 --zone us-east1-b`\n",
    "\n",
    "##### How to manage it?\n",
    "`datalab list`   \n",
    "`datalab stop gcp-example`    \n",
    "`datalab connect gcp-example` (Can be used if network connection is lost or to restart/connect to datalab if it has been stopped)    \n",
    "`datalab delete gcp-example`    \n",
    "\n",
    "#### Why use datalab? \n",
    "1. Free/easy development environment management \n",
    "2. If using BigQuery, BigTable, etc, Datalab can easily connect\n",
    "3. Integrated with ML-Engine for easy scaling and access to Tensorflow hardware\n",
    "\n",
    "#### Why not use datalab?\n",
    "1. Kind of annoying to spin up/spin down\n",
    "2. Harder to use typical developer tools like `git`\n",
    "3. No obvious way to use `R`\n"
   ]
  },
  {
   "cell_type": "markdown",
   "metadata": {},
   "source": [
    "## ML-Engine\n",
    "\n",
    "#### What is it?\n",
    "1. Auto-scaling modeling training engine\n",
    "2. Model deployment, management, and verison control framework\n",
    "\n",
    "#### How to use it?\n",
    "From the command line or from the console\n",
    "\n",
    "#### Why use it?\n",
    "1. Automatically scale the workers required for training models on large datasets\n",
    "2. Access to hardware with TPU chips??\n",
    "3. Easy model versioning\n",
    "4. Model deployment\n",
    "5. Model monitoring?\n",
    "\n",
    "#### Why not use it?\n",
    "1. Deploying the model as a REST API to users outside of GCP seems like it would take extra effort (but probably not as much as manual deployment using flask app or similar)"
   ]
  },
  {
   "cell_type": "markdown",
   "metadata": {},
   "source": [
    "# ML Apis\n",
    "\n",
    "#### what is it?\n",
    "1. Pre-trained models created by google for common things (Vision, Text, Audio)\n",
    "\n",
    "#### why is it?\n",
    "1. Because the future is now\n",
    "2. Because Google has more data than you\n",
    "3. Because you were never that good at data science anyway\n",
    "4. Because f*** it man, I'm tired of training\n",
    "5. None of the above, I will provide my own transportation to and from the gala\n",
    "\n",
    "#### why not use it? \n",
    "1. If you have sensitive data it's not clear that using these services would be kosher\n",
    "\n"
   ]
  },
  {
   "cell_type": "code",
   "execution_count": null,
   "metadata": {},
   "outputs": [],
   "source": []
  }
 ],
 "metadata": {
  "kernelspec": {
   "display_name": "Python 3",
   "language": "python",
   "name": "python3"
  },
  "language_info": {
   "codemirror_mode": {
    "name": "ipython",
    "version": 3
   },
   "file_extension": ".py",
   "mimetype": "text/x-python",
   "name": "python",
   "nbconvert_exporter": "python",
   "pygments_lexer": "ipython3",
   "version": "3.6.5"
  }
 },
 "nbformat": 4,
 "nbformat_minor": 2
}
